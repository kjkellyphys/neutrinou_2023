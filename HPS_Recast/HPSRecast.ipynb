{
 "cells": [
  {
   "cell_type": "code",
   "execution_count": null,
   "metadata": {},
   "outputs": [],
   "source": [
    "#Importing required packages\n",
    "#Make sure you have installed all the packages below\n",
    "import numpy as np\n",
    "import matplotlib.pyplot as plt\n",
    "import seaborn as sns\n",
    "from matplotlib import rc\n",
    "rc('text', usetex=True)\n",
    "from tqdm import tqdm"
   ]
  },
  {
   "cell_type": "markdown",
   "metadata": {},
   "source": [
    "#### SM Parameters"
   ]
  },
  {
   "cell_type": "code",
   "execution_count": null,
   "metadata": {},
   "outputs": [],
   "source": [
    "#Defining fundamental constants to be used later\n",
    "m_kaon, m_muon, m_electron, m_pion = 0.493677, 0.105658, 0.000511, 0.13957 #particle masses in GeV\n",
    "br_k2_mu_sm = 0.6356 #Branching ratio for K+ -> mu+ nu in SM\n",
    "x0 = 2.0e-3 #Prefactor for decay of K+ -> pi+ S\n",
    "\n",
    "GF = 1.16e-5 #Fermi constant in GeV^-2\n",
    "vev = 246.0 #Higgs vev in GeV\n",
    "sw2 = 0.223 #Weak mixing angle squared"
   ]
  },
  {
   "attachments": {},
   "cell_type": "markdown",
   "metadata": {},
   "source": [
    "# Part 1: Limit Plot Comparison"
   ]
  },
  {
   "attachments": {},
   "cell_type": "markdown",
   "metadata": {},
   "source": [
    "#### Defining the branching ratio of a kaon into a charged lepton and a heavy neutral lepton $N$\n",
    "##### Eq. (2) and following of [https://arxiv.org/abs/2106.06548]"
   ]
  },
  {
   "cell_type": "code",
   "execution_count": null,
   "metadata": {},
   "outputs": [],
   "source": [
    "def rho_N(x, y):\n",
    "    return (x + y - (x-y)**2)*np.sqrt(1 + x**2 + y**2 - 2*(x+y+x*y))/(x*(1-x)**2)\n",
    "\n",
    "def branching_k_to_ell_N(br_k2_sm, m_ell, m_N, mK, usq):\n",
    "    return br_k2_sm*usq*rho_N(m_ell**2/mK**2, m_N**2/mK**2)"
   ]
  },
  {
   "attachments": {},
   "cell_type": "markdown",
   "metadata": {},
   "source": [
    "#### Defining the branching ratio of a kaon into a charged pion and a Higgs-portal scalar $S$"
   ]
  },
  {
   "cell_type": "code",
   "execution_count": null,
   "metadata": {},
   "outputs": [],
   "source": [
    "def rho_S(x, y):\n",
    "    return 0.5*np.sqrt(1 + x**2 + y**2 - 2*(x + y +x*y))\n",
    "\n",
    "def branching_k_to_pi_phi(x0, m_pi, m_S, mK, ssq_theta):\n",
    "    return x0*ssq_theta*rho_S(m_S**2/mK**2, m_pi**2/mK**2)"
   ]
  },
  {
   "attachments": {},
   "cell_type": "markdown",
   "metadata": {},
   "source": [
    "#### Plot the branching ratio of a kaon into a muon and an HNL as a function of HNL mass"
   ]
  },
  {
   "cell_type": "code",
   "execution_count": null,
   "metadata": {},
   "outputs": [],
   "source": [
    "m_n_array = np.logspace(-3, np.log10(0.99*(m_kaon-m_muon)), 101)\n",
    "u_sq_test = 1.0e-4\n",
    "plt.plot(m_n_array, branching_k_to_ell_N(br_k2_mu_sm, m_muon, m_n_array, m_kaon, u_sq_test), lw=2)\n",
    "plt.gca().set_xscale('log')\n",
    "plt.gca().set_yscale('log')\n",
    "plt.gca().set_ylim([1e-5, 1e-3])\n",
    "\n",
    "plt.gca().set_xlabel(r\"$m_N\\ [\\mathrm{GeV}]$\", fontsize=16)\n",
    "plt.gca().set_ylabel(r\"$\\mathrm{Br}\\left(K\\to \\mu N\\right)$\", fontsize=16)"
   ]
  },
  {
   "attachments": {},
   "cell_type": "markdown",
   "metadata": {},
   "source": [
    "#### Functions to define the signal width of the HNL"
   ]
  },
  {
   "cell_type": "code",
   "execution_count": null,
   "metadata": {},
   "outputs": [],
   "source": [
    "def LL(yl):\n",
    "    return -4*np.log((1 + np.sqrt(1 - 4*yl**2))/(2*yl))\n",
    "\n",
    "def signal_width_N(m_lep, mN, Usq, GF, sw2):\n",
    "    prefactor = GF**2 * mN**5/(192*np.pi**3)*Usq\n",
    "    yl = m_lep/mN\n",
    "\n",
    "    term1 = 0.25*(1 - 4*sw2 + 8*sw2**2)*((1 - 14*yl**2 - 2*yl**4 - 12*yl**6)*np.sqrt(1 - 4*yl**2) + 12*yl**4*(yl**4 - 1)*LL(yl))\n",
    "    term2 = 4.0*(0.5*sw2*(2*sw2-1))*(yl**2*(2+10*yl**2-12*yl**4)*np.sqrt(1 - 4*yl**2) + 6*yl**4*(1-2*yl**2 + 2*yl**4)*LL(yl))\n",
    "\n",
    "    return 2*prefactor*(term1 + term2) #Factor of two: Majorana HNL decay instead of Dirac"
   ]
  },
  {
   "attachments": {},
   "cell_type": "markdown",
   "metadata": {},
   "source": [
    "#### Function to define the signal width of the HPS"
   ]
  },
  {
   "cell_type": "code",
   "execution_count": null,
   "metadata": {},
   "outputs": [],
   "source": [
    "def signal_width_S(m_lep, m_S, ssqth, v):\n",
    "    return ssqth*m_lep**2*m_S/(8*np.pi*v**2)*(1 - 4*m_lep**2/m_S**2)**(1.5)\n",
    "\n",
    "def Enew_twobodydecay(m_parent, m_sm, m_new):\n",
    "    \"\"\"Energy in the parent decay rest-frame of an outgoing particle \"new\" \n",
    "    in a two-body decay parent -> sm + new\n",
    "    \"\"\"\n",
    "    return (m_parent**2 - m_sm**2 + m_new**2)/(2*m_parent)"
   ]
  },
  {
   "cell_type": "code",
   "execution_count": null,
   "metadata": {},
   "outputs": [],
   "source": [
    "fig, ax1 = plt.subplots()\n",
    "\n",
    "m_n_array_linear = np.linspace(0, 0.2, 101)\n",
    "ax1.plot(m_n_array_linear, branching_k_to_ell_N(br_k2_mu_sm, m_muon, m_n_array_linear, m_kaon, 1.0e-4)/branching_k_to_pi_phi(x0, m_pion, m_n_array_linear, m_kaon, 1.0e-6), lw=2, color='C0')\n",
    "ax1.set_yscale('log')\n",
    "ax1.set_xlim([0, 0.2])\n",
    "ax1.set_ylim([1e4, 1e6])\n",
    "ax1.set_xlabel(r\"$m_S = m_N\\ [\\mathrm{GeV}]$\", fontsize=16)\n",
    "ax1.set_ylabel(r\"$\\Phi_{N}/\\Phi_{S}$\", fontsize=16, color='C0')\n",
    "ax1.tick_params(axis='y', labelcolor='C0')\n",
    "\n",
    "ax2 = ax1.twinx()\n",
    "\n",
    "m_n_array_linear = np.linspace(0.0011, 0.2, 101)\n",
    "\n",
    "ratio_of_decay_probabilities = (signal_width_N(m_electron, m_n_array_linear, 1.0e-4, GF, sw2))*Enew_twobodydecay(m_kaon, m_pion, m_n_array_linear)/(signal_width_S(m_electron, m_n_array_linear, 1.0e-6, vev)*Enew_twobodydecay(m_kaon, m_muon, m_n_array_linear))\n",
    "\n",
    "ax2.plot(m_n_array_linear, ratio_of_decay_probabilities, lw=2, color='red')\n",
    "#make label on y-axis for ax2 on the right\n",
    "ax2.set_ylabel(r\"$P_{\\mathrm{decay,\\ }N}/P_{\\mathrm{decay,\\ }S}$\", fontsize=16, color='red', rotation=270)\n",
    "ax2.yaxis.set_label_coords(1.15, 0.5)\n",
    "ax2.tick_params(axis='y', labelcolor='red')\n",
    "ax2.set_yscale('log')\n",
    "ax2.set_xlim([0, 0.2])\n",
    "ax2.set_ylim([1e-12, 1e-2])\n"
   ]
  },
  {
   "cell_type": "code",
   "execution_count": null,
   "metadata": {},
   "outputs": [],
   "source": [
    "#Scalar masses, limits on \\theta, and efficiency provided by MicroBooNE\n",
    "scalar_masses = np.array([0.001023, 0.003, 0.009, 0.027, 0.054, 0.081, 0.1, 0.11, 0.12, 0.13, \\\n",
    "0.14, 0.15, 0.16, 0.17, 0.18, 0.19, 0.2, 0.21])\n",
    "theta_limits = np.array([0.18, 0.0069, 0.0038, 0.0018, 0.00096, 0.00058, 0.00046, 0.00043, \\\n",
    "0.0004, 0.00038, 0.00037, 0.00035, 0.00034, 0.00033, 0.00033, \\\n",
    "0.00033, 0.00033, 0.00035])\n",
    "microboone_efficiencies = np.array([0.003, 0.004, 0.004, 0.009, 0.028, 0.085, 0.112, 0.131, 0.140, 0.146, \\\n",
    "0.170, 0.151, 0.149, 0.144, 0.133, 0.118, 0.098, 0.096])"
   ]
  },
  {
   "cell_type": "code",
   "execution_count": null,
   "metadata": {},
   "outputs": [],
   "source": [
    "def signal_ratio(m_N, m_S, usq, ssq_theta):\n",
    "   production_ratio = branching_k_to_ell_N(br_k2_mu_sm, m_muon, m_N, m_kaon, usq)/branching_k_to_pi_phi(x0, m_pion, m_S, m_kaon, ssq_theta)\n",
    "   ratio_of_decay_probabilities = (signal_width_N(m_electron, m_N, usq, GF, sw2))*Enew_twobodydecay(m_kaon, m_pion, m_S)/(signal_width_S(m_electron, m_S, ssq_theta, vev)*Enew_twobodydecay(m_kaon, m_muon, m_N))\n",
    "\n",
    "   return production_ratio * ratio_of_decay_probabilities\n"
   ]
  },
  {
   "attachments": {},
   "cell_type": "markdown",
   "metadata": {},
   "source": [
    "#### Determine the value of $|U|^2$ for which this ratio is 1 for a given $m_N = m_S = 100$ MeV"
   ]
  },
  {
   "cell_type": "code",
   "execution_count": null,
   "metadata": {},
   "outputs": [],
   "source": [
    "m_S_test = scalar_masses[6]\n",
    "ssq_theta_limit_test = np.sin(theta_limits[6])**2\n",
    "m_N_test = m_S_test\n",
    "\n",
    "usq_test = np.logspace(-7, -2, 101)\n",
    "\n",
    "signal_ratio_test = signal_ratio(m_N_test, m_S_test, usq_test, ssq_theta_limit_test)"
   ]
  },
  {
   "cell_type": "code",
   "execution_count": null,
   "metadata": {},
   "outputs": [],
   "source": [
    "fig, ax = plt.subplots()\n",
    "\n",
    "ax.plot(usq_test, signal_ratio_test, lw=2, color='dodgerblue', label=r'$m_S = m_N = 100\\ \\mathrm{MeV}$', zorder=20)\n",
    "ax.set_xscale('log')\n",
    "ax.set_yscale('log')\n",
    "ax.axis([1e-7, 1e-2, 1e-4, 1e4])\n",
    "ax.legend(loc=4, fontsize=16, framealpha=1)\n",
    "\n",
    "ax.axhline(1.0, lw=1, ls='--', color='k')\n",
    "ax.axvline(1/np.sqrt(signal_ratio(m_N_test, m_S_test, 1.0, ssq_theta_limit_test)), lw=1, ls='--', color='k')\n",
    "\n",
    "ax.set_xlabel(r\"$|U_{\\mu N}|^2$\", fontsize=16)\n",
    "ax.set_ylabel(r\"$R_{N}/R_{S} \\propto |U_{\\mu N}|^4$\", fontsize=16)"
   ]
  },
  {
   "cell_type": "code",
   "execution_count": null,
   "metadata": {},
   "outputs": [],
   "source": [
    "usq_limits = 1/np.sqrt(signal_ratio(scalar_masses, scalar_masses, 1.0, np.sin(theta_limits)**2))"
   ]
  },
  {
   "cell_type": "code",
   "execution_count": null,
   "metadata": {},
   "outputs": [],
   "source": [
    "PIENU = np.loadtxt(\"./PIENU_mu_data.csv\", delimiter=\",\")\n",
    "PS191 = np.loadtxt(\"./PS191_mu_data.csv\", delimiter=\",\")\n",
    "Michel = np.loadtxt(\"./MichelSpectrum.csv\", delimiter=\",\")\n",
    "KEK = np.loadtxt(\"./KEK_data.csv\", delimiter=\",\")\n",
    "E949 = np.loadtxt(\"./E949_data.csv\", delimiter=\",\")"
   ]
  },
  {
   "cell_type": "code",
   "execution_count": null,
   "metadata": {},
   "outputs": [],
   "source": [
    "colpal = sns.color_palette(\"Paired\", 10)\n",
    "\n",
    "redcol = colpal[5]\n",
    "grncol = colpal[3]\n",
    "bluecol = colpal[1]\n",
    "nexcol = colpal[7]\n",
    "newercol = colpal[9]\n",
    "\n",
    "bluecolfill=(0.6509803921568628, 0.807843137254902, 0.8901960784313725, 0.5)\n",
    "redcolfill=(0.984313725490196, 0.6039215686274509, 0.6, 0.5)\n",
    "grncolfill=(0.698039, 0.8745098, 0.5411765, 0.5)\n",
    "newerfill=(0.792156862745098, 0.6980392156862745, 0.8392156862745098, 0.5)\n",
    "nexcolfill=(0.9921568627450981, 0.7490196078431373, 0.43529411764705883, 0.5)\n"
   ]
  },
  {
   "cell_type": "code",
   "execution_count": null,
   "metadata": {},
   "outputs": [],
   "source": [
    "fig, ax = plt.subplots()\n",
    "\n",
    "ax.plot(scalar_masses, usq_limits, lw=2, color='k', label=r'$\\varepsilon(m_N) = \\varepsilon(m_S)$')\n",
    "ax.set_xscale('log')\n",
    "ax.set_yscale('log')\n",
    "ax.axis([0.020, 0.200, 1e-7, 1e-2])\n",
    "ax.legend(loc=3, fontsize=16)\n",
    "\n",
    "ax.fill_between(10**Michel.T[0], [1.0 for k in range(len(Michel))], 10**Michel.T[1], lw=2, edgecolor=redcol, facecolor=redcolfill, interpolate=True)\n",
    "ax.fill_between(10**KEK.T[0], [1.0 for k in range(len(KEK))], 10**KEK.T[1], lw=2, edgecolor=grncol, facecolor=grncolfill, interpolate=True)\n",
    "ax.fill_between(10**PS191.T[0], [1.0 for k in range(len(PS191))], 10**PS191.T[1], lw=2, edgecolor=bluecol, facecolor=bluecolfill, interpolate=True)\n",
    "ax.fill_between(10**E949.T[0], [1.0 for k in range(len(E949))], 10**E949.T[1], lw=2, edgecolor=nexcol, facecolor=nexcolfill, interpolate=True)\n",
    "ax.fill_between(10**PIENU.T[0], [1.0 for k in range(len(PIENU))], 10**PIENU.T[1], lw=2, edgecolor=newercol, facecolor=newerfill, interpolate=True)\n",
    "\n",
    "a1 = r\"$\\mathrm{PIENU}$\"\n",
    "ax.annotate(a1, xy=(0.025, 5e-5), xytext=(0, 0), textcoords=\"offset points\", ha=\"center\", va=\"center\", size=14, zorder=20, color=newercol)\n",
    "\n",
    "a2 = r\"$\\mathrm{Michel}$\"\n",
    "ax.annotate(a2, xy=(0.043, 2e-3), xytext=(0, 15), textcoords=\"offset points\", ha=\"center\", va=\"center\", size=14, zorder=20, color=redcol)\n",
    "a2b = r\"$\\mathrm{electron}$\"\n",
    "ax.annotate(a2b, xy=(0.043, 2e-3), xytext=(0, 0), textcoords=\"offset points\", ha=\"center\", va=\"center\", size=14, zorder=20, color=redcol)\n",
    "\n",
    "a3 = r\"$\\mathrm{KEK}$\"\n",
    "ax.annotate(a3, xy=(0.081, 1e-4), xytext=(0, 0), textcoords=\"offset points\", ha=\"center\", va=\"center\", size=14, zorder=20, color=grncol)\n",
    "\n",
    "a4 = r\"$\\mathrm{PS191}$\"\n",
    "ax.annotate(a4, xy=(0.150, 2e-4), xytext=(0, 0), textcoords=\"offset points\", ha=\"center\", va=\"center\", size=14, zorder=20, color=bluecol)\n",
    "\n",
    "a5 = r\"$\\mathrm{E949}$\"\n",
    "ax.annotate(a5, xy=(0.190, 1e-5), xytext=(0, -25), textcoords=\"offset points\", ha=\"center\", va=\"center\", size=14, zorder=20, color=nexcol, rotation=90)\n",
    "\n",
    "ax.set_xlabel(r\"$m_N\\ \\mathrm{[GeV]}$\", fontsize=20)\n",
    "ax.set_ylabel(r\"$\\left| U_{\\mu 4}\\right|^2$\", fontsize=20)"
   ]
  },
  {
   "attachments": {},
   "cell_type": "markdown",
   "metadata": {},
   "source": [
    "# Part 2: Decay Kinematics"
   ]
  },
  {
   "attachments": {},
   "cell_type": "markdown",
   "metadata": {},
   "source": [
    "### Perform an analysis on HPS and HNL decays into electron/positron pairs. How do the event kinematics look in MicroBooNE?"
   ]
  },
  {
   "cell_type": "code",
   "execution_count": null,
   "metadata": {},
   "outputs": [],
   "source": [
    "import HNLGen, LabFrame\n",
    "import matplotlib as mpl"
   ]
  },
  {
   "cell_type": "code",
   "execution_count": null,
   "metadata": {},
   "outputs": [],
   "source": [
    "detector_angular_uncertainty = 3.0 #degrees"
   ]
  },
  {
   "attachments": {},
   "cell_type": "markdown",
   "metadata": {},
   "source": [
    "### Create several distributions: HNL with $m_N = 100$ MeV"
   ]
  },
  {
   "cell_type": "code",
   "execution_count": null,
   "metadata": {},
   "outputs": [],
   "source": [
    "gLgRTrue = [0.5*(1.0 - 2.0*sw2), sw2]\n",
    "\n",
    "mN_test = 0.100\n",
    "\n",
    "distribution_100MeV_HNL = HNLGen.RetSampDM([mN_test, m_electron, m_electron], [m_kaon, m_muon], gLgRTrue, 1, False, False) #Generate sample of events\n",
    "labframe_dist_100MeV_HNL = LabFrame.LFEvts(distribution_100MeV_HNL, [mN_test, m_electron, m_electron], [m_kaon, m_muon])\n",
    "labframe_smeardist_100MeV_HNL = LabFrame.LFSmear(labframe_dist_100MeV_HNL, detector_angular_uncertainty)\n",
    "\n",
    "event_kinematics_truth_100MeV_HNL = LabFrame.LFAnalysis(labframe_dist_100MeV_HNL)\n",
    "event_kinematics_reco_100MeV_HNL = LabFrame.LFAnalysis(labframe_smeardist_100MeV_HNL)"
   ]
  },
  {
   "attachments": {},
   "cell_type": "markdown",
   "metadata": {},
   "source": [
    "### Create several distributions: HPS with $m_S = 100$ MeV and $80$ MeV"
   ]
  },
  {
   "cell_type": "code",
   "execution_count": null,
   "metadata": {},
   "outputs": [],
   "source": [
    "mS_test = 0.100\n",
    "labframe_dist_100MeV_HPS = LabFrame.LFEvtsHPS([mS_test, m_electron], [m_kaon, m_pion], int(1e6))\n",
    "labframe_smeardist_100MeV_HPS = LabFrame.LFSmear(labframe_dist_100MeV_HPS, detector_angular_uncertainty)\n",
    "\n",
    "event_kinematics_truth_100MeV_HPS = LabFrame.LFAnalysis(labframe_dist_100MeV_HPS)\n",
    "event_kinematics_reco_100MeV_HPS = LabFrame.LFAnalysis(labframe_smeardist_100MeV_HPS)\n",
    "\n",
    "\n",
    "mS_test_2 = 0.080\n",
    "labframe_dist_80MeV_HPS = LabFrame.LFEvtsHPS([mS_test_2, m_electron], [m_kaon, m_pion], int(1e6))\n",
    "labframe_smeardist_80MeV_HPS = LabFrame.LFSmear(labframe_dist_80MeV_HPS, detector_angular_uncertainty)\n",
    "\n",
    "event_kinematics_truth_80MeV_HPS = LabFrame.LFAnalysis(labframe_dist_80MeV_HPS)\n",
    "event_kinematics_reco_80MeV_HPS = LabFrame.LFAnalysis(labframe_smeardist_80MeV_HPS)"
   ]
  },
  {
   "attachments": {},
   "cell_type": "markdown",
   "metadata": {},
   "source": [
    "### Perform analysis/reconstruction on each sample -- truth and reco. information"
   ]
  },
  {
   "cell_type": "code",
   "execution_count": null,
   "metadata": {},
   "outputs": [],
   "source": [
    "minimum_visible_energy = 0.010 #10 MeV -- minimum visible energy\n",
    "minimum_openingangle = 10.0 #degrees -- minimum opening angle of a pair of electrons\n",
    "\n",
    "result_100MeV_truth_HNL = np.array(LabFrame.CutAnalysis(event_kinematics_truth_100MeV_HNL, minimum_visible_energy, minimum_openingangle, VB=False)[1])\n",
    "result_100MeV_reco_HNL = np.array(LabFrame.CutAnalysis(event_kinematics_reco_100MeV_HNL, minimum_visible_energy, minimum_openingangle, VB=False)[1])\n",
    "\n",
    "result_100MeV_truth_HPS = np.array(LabFrame.CutAnalysis(event_kinematics_truth_100MeV_HPS, minimum_visible_energy, minimum_openingangle, VB=False)[1])\n",
    "result_100MeV_reco_HPS = np.array(LabFrame.CutAnalysis(event_kinematics_reco_100MeV_HPS, minimum_visible_energy, minimum_openingangle, VB=False)[1])\n",
    "\n",
    "result_80MeV_truth_HPS = np.array(LabFrame.CutAnalysis(event_kinematics_truth_80MeV_HPS, minimum_visible_energy, minimum_openingangle, VB=False)[1])\n",
    "result_80MeV_reco_HPS = np.array(LabFrame.CutAnalysis(event_kinematics_reco_80MeV_HPS, minimum_visible_energy, minimum_openingangle, VB=False)[1])"
   ]
  },
  {
   "attachments": {},
   "cell_type": "markdown",
   "metadata": {},
   "source": [
    "### Plot distributions -- opening angle of $e^+ e^-$ pair vs. direction of leading charged lepton"
   ]
  },
  {
   "cell_type": "code",
   "execution_count": null,
   "metadata": {},
   "outputs": [],
   "source": [
    "figwid = 4.0\n",
    "fighei = 4.0\n",
    "lside = 1.1\n",
    "rside = 0.1\n",
    "wwspace = 1.5\n",
    "\n",
    "ncol = 1\n",
    "nrow = 1\n",
    "\n",
    "wid = lside + ncol*figwid + (ncol-1)*wwspace + rside\n",
    "\n",
    "bot = 0.9\n",
    "top = 0.1\n",
    "hhspace = 1.25\n",
    "\n",
    "hei = bot + nrow*fighei + (nrow-1)*hhspace + top\n",
    "\n",
    "lfactor = lside/wid\n",
    "rfactor = rside/wid\n",
    "bfactor = bot/hei\n",
    "tfactor = top/hei\n",
    "wfactor = wwspace/figwid\n",
    "hfactor = hhspace/fighei\n",
    "\n",
    "fig, axes = plt.subplots(nrow, ncol, figsize=(wid, hei), facecolor='1.0');\n",
    "fig.subplots_adjust(left = lfactor, bottom=bfactor, right=(1.0-rfactor), top=(1.0-tfactor), wspace=wfactor, hspace=hfactor);\n",
    "\n",
    "ax = axes\n",
    "xmin = -1\n",
    "xmax = 1\n",
    "ymin = 0\n",
    "ymax = 30\n",
    "ax.axis([xmin, xmax, ymin, ymax])\n",
    "ax.set_xlabel(r'$\\cos\\theta_{e^+e^-}$', fontsize=16)        \n",
    "ax.set_ylabel(r'$\\theta_{e_{\\rm lead}}\\ [\\mathrm{deg.}]$', fontsize=16)\n",
    "            \n",
    "ax.tick_params(direction='in', reset=True, which='both', zorder=30)\n",
    "[l.set_position((0.5, -0.015)) for l in ax.get_xticklabels()]\n",
    "[l.set_size(12) for l in ax.get_xticklabels()]\n",
    "[l.set_size(12) for l in ax.get_yticklabels()]\n",
    "\n",
    "ax.hist2d(result_100MeV_truth_HNL.T[2], np.arctan(result_100MeV_truth_HNL.T[3])*180.0/np.pi, bins = [np.linspace(-1, 1, 41), np.linspace(0, 30, 41)], weights=result_100MeV_truth_HNL.T[4], cmin=3e-9)#, cmin=1e-9, edgecolors='face')\n",
    "ax.hist2d(result_100MeV_truth_HPS.T[2], np.arctan(result_100MeV_truth_HPS.T[3])*180.0/np.pi, bins = [np.linspace(-1, 1, 61), np.linspace(0, 30, 61)], weights=result_100MeV_truth_HPS.T[4], cmap='inferno', cmin=1e-5)#, cmin=1e-9, edgecolors='face')\n",
    "ax.hist2d(result_80MeV_truth_HPS.T[2], np.arctan(result_80MeV_truth_HPS.T[3])*180.0/np.pi, bins = [np.linspace(-1, 1, 61), np.linspace(0, 30, 61)], weights=result_80MeV_truth_HPS.T[4], cmap='plasma', cmin=1e-5)#, cmin=1e-9, edgecolors='face')\n",
    "\n",
    "ax.set_xlim([xmin,xmax])\n",
    "ax.set_ylim([ymin,ymax])\n",
    "\n",
    "ax.annotate(r\"$\\mathrm{HPS},\\ m_S = 100\\ \\mathrm{MeV}$\", xy=(0.2, 7), xytext=(0,15), textcoords=\"offset points\", ha=\"right\", va=\"bottom\", size=16, color=(mpl.cm.get_cmap('inferno'))(0.8))\n",
    "ax.annotate(r\"$m_S = 80\\ \\mathrm{MeV}$\", xy=(0, 2), xytext=(-35,0), textcoords=\"offset points\", ha=\"left\", va=\"top\", size=16, color=(mpl.cm.get_cmap('plasma'))(0.8))\n",
    "ax.annotate(r\"$\\mathrm{HNL},\\ m_N = 100\\ \\mathrm{MeV}$\", xy=(0.4, 25), xytext=(22,0), textcoords=\"offset points\", ha=\"right\", va=\"top\", size=16, color=(mpl.cm.get_cmap('viridis'))(0.8))"
   ]
  },
  {
   "attachments": {},
   "cell_type": "markdown",
   "metadata": {},
   "source": [
    "### Inspect efficiencies provided by MicroBooNE"
   ]
  },
  {
   "cell_type": "code",
   "execution_count": null,
   "metadata": {},
   "outputs": [],
   "source": [
    "plt.plot(scalar_masses, microboone_efficiencies, lw=2, color='k', ls='-')\n",
    "plt.gca().set_xlabel(r\"$m_S\\ [\\mathrm{GeV}]$\", fontsize=16)\n",
    "plt.gca().set_ylabel(r\"$\\varepsilon(m_S)$\", fontsize=16)"
   ]
  },
  {
   "attachments": {},
   "cell_type": "markdown",
   "metadata": {},
   "source": [
    "### How does this relate to opening angle of scalar decay-product $e^+ e^-$ pairs? Seems to peak around 140 MeV"
   ]
  },
  {
   "cell_type": "code",
   "execution_count": null,
   "metadata": {},
   "outputs": [],
   "source": [
    "NS = int(1e6)\n",
    "scalar_mean_opening_angle, scalar_cut_efficiency = [], []\n",
    "for scalar_mass_test in tqdm(scalar_masses):\n",
    "    lab_frame_events = LabFrame.LFEvtsHPS([scalar_mass_test, m_electron], [m_kaon, m_pion], NS)\n",
    "    lab_frame_smeared = LabFrame.LFSmear(lab_frame_events, detector_angular_uncertainty)\n",
    "\n",
    "    analyzed_events = LabFrame.LFAnalysis(lab_frame_smeared)\n",
    "    results_cut = LabFrame.CutAnalysis(analyzed_events, minimum_visible_energy, minimum_openingangle)\n",
    "\n",
    "    cut_efficiency = results_cut[0]\n",
    "    scalar_cut_efficiency.append([scalar_mass_test, cut_efficiency])\n",
    "\n",
    "    events_pass_cuts = results_cut[1]\n",
    "    if events_pass_cuts is not None:\n",
    "        mean_opening_angle = np.average(np.transpose(events_pass_cuts)[2], weights=np.transpose(events_pass_cuts)[4])\n",
    "        scalar_mean_opening_angle.append([scalar_mass_test, mean_opening_angle])\n",
    "\n",
    "scalar_mean_opening_angle = np.array(scalar_mean_opening_angle)\n",
    "scalar_cut_efficiency = np.array(scalar_cut_efficiency)"
   ]
  },
  {
   "attachments": {},
   "cell_type": "markdown",
   "metadata": {},
   "source": [
    "### Scalar mass vs. Average opening Angle"
   ]
  },
  {
   "cell_type": "code",
   "execution_count": null,
   "metadata": {},
   "outputs": [],
   "source": [
    "plt.plot(scalar_masses, scalar_mean_opening_angle.T[1], lw=2, color='k', ls='-')\n",
    "plt.gca().set_xlabel(r'$m_S\\ \\mathrm{[GeV]}$', fontsize=16)        \n",
    "plt.gca().set_ylabel(r'$\\overline{\\cos(\\theta_{e^+ e^-})}$', fontsize=16)\n",
    "plt.gca().set_ylim(-1,1)"
   ]
  },
  {
   "attachments": {},
   "cell_type": "markdown",
   "metadata": {},
   "source": [
    "### Average opening Angle vs. Efficiency"
   ]
  },
  {
   "cell_type": "code",
   "execution_count": null,
   "metadata": {},
   "outputs": [],
   "source": [
    "plt.plot(scalar_mean_opening_angle.T[1], microboone_efficiencies, lw=2, color='k', ls='-')\n",
    "plt.gca().set_ylabel(r'$\\varepsilon(m_S)$', fontsize=16)\n",
    "plt.gca().set_xlabel(r'$\\overline{\\cos(\\theta_{e^+ e^-})}$', fontsize=16)\n",
    "plt.gca().set_xlim(-1,1)"
   ]
  },
  {
   "attachments": {},
   "cell_type": "markdown",
   "metadata": {},
   "source": [
    "### Assumption: Efficiency depends on mean opening angle.\n",
    "### Determine mean opening angle for HNLs with similar masses, then determine the efficiency based on this assumption"
   ]
  },
  {
   "cell_type": "code",
   "execution_count": null,
   "metadata": {},
   "outputs": [],
   "source": [
    "hnl_mean_opening_angle, hnl_cut_efficiency = [], []\n",
    "for hnl_mass_test in tqdm(scalar_masses):\n",
    "    initial_distribution = HNLGen.RetSampDM([hnl_mass_test, m_electron, m_electron], [m_kaon, m_muon], gLgRTrue, 1, False, True)\n",
    "    lab_frame_events = LabFrame.LFEvts(initial_distribution, [hnl_mass_test, m_electron, m_electron], [m_kaon, m_muon])\n",
    "    lab_frame_smeared = LabFrame.LFSmear(lab_frame_events, detector_angular_uncertainty)\n",
    "\n",
    "    analyzed_events = LabFrame.LFAnalysis(lab_frame_smeared)\n",
    "    results_cut = LabFrame.CutAnalysis(analyzed_events, minimum_visible_energy, minimum_openingangle)\n",
    "\n",
    "    cut_efficiency = results_cut[0]\n",
    "    hnl_cut_efficiency.append([hnl_mass_test, cut_efficiency])\n",
    "\n",
    "    events_pass_cuts = results_cut[1]\n",
    "    if events_pass_cuts is not None:\n",
    "        mean_opening_angle = np.average(np.transpose(events_pass_cuts)[2], weights=np.transpose(events_pass_cuts)[4])\n",
    "        hnl_mean_opening_angle.append([hnl_mass_test, mean_opening_angle])\n",
    "\n",
    "hnl_mean_opening_angle = np.array(hnl_mean_opening_angle)\n",
    "hnl_cut_efficiency = np.array(hnl_cut_efficiency)"
   ]
  },
  {
   "cell_type": "code",
   "execution_count": null,
   "metadata": {},
   "outputs": [],
   "source": [
    "plt.plot(scalar_masses, scalar_mean_opening_angle.T[1], lw=2, color='k', ls='-')\n",
    "plt.plot(scalar_masses, hnl_mean_opening_angle.T[1], lw=2, color='k', ls='--')\n",
    "plt.gca().set_xlabel(r'$m_S\\ \\mathrm{[GeV]}$', fontsize=16)        \n",
    "plt.gca().set_ylabel(r'$\\overline{\\cos(\\theta_{e^+ e^-})}$', fontsize=16)\n",
    "plt.gca().set_ylim(-1,1)"
   ]
  },
  {
   "cell_type": "code",
   "execution_count": null,
   "metadata": {},
   "outputs": [],
   "source": [
    "from scipy.interpolate import interp1d\n",
    "\n",
    "#Determine the HNL efficiency by interpolation\n",
    "efficiency_vs_scalar_opening_angle = interp1d(scalar_mean_opening_angle.T[1], microboone_efficiencies, fill_value=0.0, bounds_error=False)\n",
    "hnl_efficiency = efficiency_vs_scalar_opening_angle(hnl_mean_opening_angle.T[1])"
   ]
  },
  {
   "attachments": {},
   "cell_type": "markdown",
   "metadata": {},
   "source": [
    "### Plot HNL Efficiencies against Scalar One"
   ]
  },
  {
   "cell_type": "code",
   "execution_count": null,
   "metadata": {},
   "outputs": [],
   "source": [
    "xmin, xmax, ymin, ymax = 0, 0.2, 0, 0.2\n",
    "\n",
    "plt.plot(scalar_masses, microboone_efficiencies, lw=2, color='k', ls='-')\n",
    "plt.plot(scalar_masses, hnl_efficiency, lw=2, color='k', ls='--')\n",
    "\n",
    "#Most conservative option: incorporate cuts on minimum energy/minimum opening angle in efficiency too\n",
    "plt.plot(scalar_masses, hnl_efficiency*hnl_cut_efficiency.T[1]/scalar_cut_efficiency.T[1], lw=2, color='k', ls='-.')\n",
    "\n",
    "plt.gca().set_xlabel(r'$m_S\\ \\mathrm{[GeV]}$', fontsize=16)        \n",
    "plt.gca().set_ylabel(r'$\\varepsilon(m_S)$', fontsize=16)\n",
    "plt.gca().axis([xmin, xmax, ymin, ymax])\n"
   ]
  },
  {
   "attachments": {},
   "cell_type": "markdown",
   "metadata": {},
   "source": [
    "### Determine the most conservative event-reweighting factor based on the different approaches"
   ]
  },
  {
   "cell_type": "code",
   "execution_count": null,
   "metadata": {},
   "outputs": [],
   "source": [
    "conservative_efficiency_factor = []\n",
    "for i in range(len(scalar_masses)):\n",
    "    scalar_e = microboone_efficiencies[i]\n",
    "    hnl_e = hnl_efficiency[i]\n",
    "\n",
    "    scalar_cut_impact = scalar_cut_efficiency[i][1]\n",
    "    hnl_cut_impact = hnl_cut_efficiency[i][1]\n",
    "\n",
    "    reweight_factor = np.min([1.0, hnl_e/scalar_e, hnl_e/scalar_e*hnl_cut_impact/scalar_cut_impact])\n",
    "    conservative_efficiency_factor.append(reweight_factor)\n",
    "conservative_efficiency_factor = np.array(conservative_efficiency_factor)"
   ]
  },
  {
   "attachments": {},
   "cell_type": "markdown",
   "metadata": {},
   "source": [
    "### Determine updated limits with event rate rescaled by this efficiency factor"
   ]
  },
  {
   "cell_type": "code",
   "execution_count": null,
   "metadata": {},
   "outputs": [],
   "source": [
    "usq_limits_conservative = usq_limits/np.sqrt(conservative_efficiency_factor)"
   ]
  },
  {
   "cell_type": "code",
   "execution_count": null,
   "metadata": {},
   "outputs": [],
   "source": [
    "fig, ax = plt.subplots()\n",
    "\n",
    "ax.plot(scalar_masses, usq_limits, lw=2, color='k', label=r'$\\varepsilon(m_N) = \\varepsilon(m_S)$')\n",
    "ax.plot(scalar_masses, usq_limits_conservative, lw=2, color='k', ls='--', label=r'$\\varepsilon(m_N) = \\varepsilon(\\overline{\\cos\\theta_{e^+ e^-}})$')\n",
    "ax.set_xscale('log')\n",
    "ax.set_yscale('log')\n",
    "ax.axis([0.020, 0.200, 1e-7, 1e-2])\n",
    "ax.legend(loc=3, fontsize=16)\n",
    "\n",
    "ax.fill_between(10**Michel.T[0], [1.0 for k in range(len(Michel))], 10**Michel.T[1], lw=2, edgecolor=redcol, facecolor=redcolfill, interpolate=True)\n",
    "ax.fill_between(10**KEK.T[0], [1.0 for k in range(len(KEK))], 10**KEK.T[1], lw=2, edgecolor=grncol, facecolor=grncolfill, interpolate=True)\n",
    "ax.fill_between(10**PS191.T[0], [1.0 for k in range(len(PS191))], 10**PS191.T[1], lw=2, edgecolor=bluecol, facecolor=bluecolfill, interpolate=True)\n",
    "ax.fill_between(10**E949.T[0], [1.0 for k in range(len(E949))], 10**E949.T[1], lw=2, edgecolor=nexcol, facecolor=nexcolfill, interpolate=True)\n",
    "ax.fill_between(10**PIENU.T[0], [1.0 for k in range(len(PIENU))], 10**PIENU.T[1], lw=2, edgecolor=newercol, facecolor=newerfill, interpolate=True)\n",
    "\n",
    "a1 = r\"$\\mathrm{PIENU}$\"\n",
    "ax.annotate(a1, xy=(0.025, 5e-5), xytext=(0, 0), textcoords=\"offset points\", ha=\"center\", va=\"center\", size=14, zorder=20, color=newercol)\n",
    "\n",
    "a2 = r\"$\\mathrm{Michel}$\"\n",
    "ax.annotate(a2, xy=(0.043, 2e-3), xytext=(0, 15), textcoords=\"offset points\", ha=\"center\", va=\"center\", size=14, zorder=20, color=redcol)\n",
    "a2b = r\"$\\mathrm{electron}$\"\n",
    "ax.annotate(a2b, xy=(0.043, 2e-3), xytext=(0, 0), textcoords=\"offset points\", ha=\"center\", va=\"center\", size=14, zorder=20, color=redcol)\n",
    "\n",
    "a3 = r\"$\\mathrm{KEK}$\"\n",
    "ax.annotate(a3, xy=(0.081, 1e-4), xytext=(0, 0), textcoords=\"offset points\", ha=\"center\", va=\"center\", size=14, zorder=20, color=grncol)\n",
    "\n",
    "a4 = r\"$\\mathrm{PS191}$\"\n",
    "ax.annotate(a4, xy=(0.150, 2e-4), xytext=(0, 0), textcoords=\"offset points\", ha=\"center\", va=\"center\", size=14, zorder=20, color=bluecol)\n",
    "\n",
    "a5 = r\"$\\mathrm{E949}$\"\n",
    "ax.annotate(a5, xy=(0.190, 1e-5), xytext=(0, -25), textcoords=\"offset points\", ha=\"center\", va=\"center\", size=14, zorder=20, color=nexcol, rotation=90)\n",
    "\n",
    "ax.set_xlabel(r\"$m_N\\ \\mathrm{[GeV]}$\", fontsize=20)\n",
    "ax.set_ylabel(r\"$\\left| U_{\\mu 4}\\right|^2$\", fontsize=20)"
   ]
  },
  {
   "cell_type": "code",
   "execution_count": null,
   "metadata": {},
   "outputs": [],
   "source": []
  }
 ],
 "metadata": {
  "kernelspec": {
   "display_name": "Python 3",
   "language": "python",
   "name": "python3"
  },
  "language_info": {
   "codemirror_mode": {
    "name": "ipython",
    "version": 3
   },
   "file_extension": ".py",
   "mimetype": "text/x-python",
   "name": "python",
   "nbconvert_exporter": "python",
   "pygments_lexer": "ipython3",
   "version": "3.10.12"
  },
  "orig_nbformat": 4
 },
 "nbformat": 4,
 "nbformat_minor": 2
}
